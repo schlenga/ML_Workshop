{
 "cells": [
  {
   "cell_type": "markdown",
   "metadata": {},
   "source": [
    "## Logical Gate\n",
    "In this notebook we are going to use tensorflow to train our first neural network.\n",
    "\n",
    "We're going to learn the OR-gate as before and also the AND-gate."
   ]
  },
  {
   "cell_type": "code",
   "execution_count": 1,
   "metadata": {},
   "outputs": [
    {
     "name": "stderr",
     "output_type": "stream",
     "text": [
      "/usr/local/lib/python3.6/site-packages/h5py/__init__.py:36: FutureWarning: Conversion of the second argument of issubdtype from `float` to `np.floating` is deprecated. In future, it will be treated as `np.float64 == np.dtype(float).type`.\n",
      "  from ._conv import register_converters as _register_converters\n"
     ]
    }
   ],
   "source": [
    "import tensorflow as tf\n",
    "import matplotlib.pyplot as plt\n",
    "import numpy as np\n",
    "import scipy\n",
    "%matplotlib inline"
   ]
  },
  {
   "cell_type": "markdown",
   "metadata": {},
   "source": [
    "This can be magic for you. We tell Python to go fetch tensorflow and refer to it as \"tf\", and some other things.\n",
    "\n",
    "For the OR-gate, our training data consists of the truth table of OR. We also give names \"on\" and \"off\" and the biases."
   ]
  },
  {
   "cell_type": "code",
   "execution_count": 2,
   "metadata": {},
   "outputs": [],
   "source": [
    "ON, OFF = 1.0, 0.0\n",
    "bias = 1.0\n",
    "\n",
    "training_inputs = [\n",
    "    [ON, ON],\n",
    "    [ON, OFF],\n",
    "    [OFF, ON],\n",
    "    [OFF, OFF],\n",
    "]\n",
    "\n",
    "training_outputs = [\n",
    "    [OFF],\n",
    "    [ON],\n",
    "    [ON],\n",
    "    [OFF],\n",
    "]"
   ]
  },
  {
   "cell_type": "markdown",
   "metadata": {},
   "source": [
    "Next we are going to initialize the weights as random numbers."
   ]
  },
  {
   "cell_type": "code",
   "execution_count": 3,
   "metadata": {},
   "outputs": [],
   "source": [
    "w1 = tf.Variable(tf.random_normal([2, 2]))\n",
    "b1 = tf.Variable(tf.zeros([2]))\n",
    "\n",
    "w2 = tf.Variable(tf.random_normal([2, 1]))\n",
    "b2 = tf.Variable(tf.zeros([1]))\n",
    "\n",
    "output1 = tf.tanh(tf.add(tf.matmul(training_inputs, w1), b1))\n",
    "output2 = tf.tanh(tf.add(tf.matmul(output1, w2), b2))"
   ]
  },
  {
   "cell_type": "markdown",
   "metadata": {},
   "source": [
    "The output of our model is just the sigmoid function of the sum and products of the weights, inputs, and biases.\n",
    "\n",
    "The error is then the difference between the actual outputs and the correct outputs."
   ]
  },
  {
   "cell_type": "code",
   "execution_count": 4,
   "metadata": {},
   "outputs": [],
   "source": [
    "error = tf.subtract(training_outputs, output2)\n",
    "mse = tf.reduce_mean(tf.square(error))"
   ]
  },
  {
   "cell_type": "markdown",
   "metadata": {},
   "source": [
    "From the gradient we compute the change in the weights that we want to perform in order to improve loss."
   ]
  },
  {
   "cell_type": "code",
   "execution_count": 5,
   "metadata": {},
   "outputs": [],
   "source": [
    "train = tf.train.GradientDescentOptimizer(0.01).minimize(mse)"
   ]
  },
  {
   "cell_type": "markdown",
   "metadata": {},
   "source": [
    "Now we start a tensorflow session and let the model train for 50 epochs. We're also going to log error and accuracy."
   ]
  },
  {
   "cell_type": "code",
   "execution_count": 11,
   "metadata": {},
   "outputs": [
    {
     "name": "stdout",
     "output_type": "stream",
     "text": [
      "epoch: 6347 mse: 0.00999819\n"
     ]
    }
   ],
   "source": [
    "sess = tf.Session()\n",
    "sess.run(tf.global_variables_initializer())\n",
    "\n",
    "err, target = 1, 0.01\n",
    "epoch, max_epoch = 0, 50000\n",
    "\n",
    "last_weights = []\n",
    "train_loss_results = []\n",
    "\n",
    "while err > target and epoch < max_epoch:\n",
    "    epoch += 1\n",
    "    err, w_ = sess.run([mse, train])\n",
    "    last_weights = w_\n",
    "    train_loss_results.append(err)\n",
    "\n",
    "print(\"epoch:\", epoch, \"mse:\", err)\n"
   ]
  },
  {
   "cell_type": "markdown",
   "metadata": {},
   "source": [
    "A quick look at the falling loss."
   ]
  },
  {
   "cell_type": "code",
   "execution_count": 12,
   "metadata": {},
   "outputs": [
    {
     "data": {
      "text/plain": [
       "[<matplotlib.lines.Line2D at 0x113249128>]"
      ]
     },
     "execution_count": 12,
     "metadata": {},
     "output_type": "execute_result"
    },
    {
     "data": {
      "image/png": "[encoded data removed]",
      "text/plain": [
       "<matplotlib.figure.Figure at 0x11318b860>"
      ]
     },
     "metadata": {},
     "output_type": "display_data"
    }
   ],
   "source": [
    "plt.plot(train_loss_results)"
   ]
  },
  {
   "cell_type": "markdown",
   "metadata": {},
   "source": [
    "And to check we look at the predicted outcomes:"
   ]
  },
  {
   "cell_type": "code",
   "execution_count": 14,
   "metadata": {},
   "outputs": [
    {
     "name": "stdout",
     "output_type": "stream",
     "text": [
      "None\n"
     ]
    }
   ],
   "source": [
    "print(last_weights)"
   ]
  },
  {
   "cell_type": "markdown",
   "metadata": {},
   "source": [
    "And now you for the AND-gate!"
   ]
  },
  {
   "cell_type": "code",
   "execution_count": null,
   "metadata": {},
   "outputs": [],
   "source": []
  }
 ],
 "metadata": {
  "kernelspec": {
   "display_name": "Python 3",
   "language": "python",
   "name": "python3"
  },
  "language_info": {
   "codemirror_mode": {
    "name": "ipython",
    "version": 3
   },
   "file_extension": ".py",
   "mimetype": "text/x-python",
   "name": "python",
   "nbconvert_exporter": "python",
   "pygments_lexer": "ipython3",
   "version": "3.6.4"
  }
 },
 "nbformat": 4,
 "nbformat_minor": 2
}
