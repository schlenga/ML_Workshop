{
 "cells": [
  {
   "cell_type": "markdown",
   "metadata": {},
   "source": [
    "## Logical Gate\n",
    "In this notebook we are going to use tensorflow to train our first neural network.\n",
    "\n",
    "We're going to learn the OR-gate as before and also the AND-gate."
   ]
  },
  {
   "cell_type": "code",
   "execution_count": 1,
   "metadata": {},
   "outputs": [],
   "source": [
    "import tensorflow as tf\n",
    "import matplotlib.pyplot as plt\n",
    "import numpy as np\n",
    "import scipy\n",
    "%matplotlib inline"
   ]
  },
  {
   "cell_type": "markdown",
   "metadata": {},
   "source": [
    "This can be magic for you. We tell Python to go fetch tensorflow and refer to it as \"tf\", and some other things.\n",
    "\n",
    "For the OR-gate, our training data consists of the truth table of OR. We also give names \"on\" and \"off\" and the biases."
   ]
  },
  {
   "cell_type": "code",
   "execution_count": 2,
   "metadata": {},
   "outputs": [],
   "source": [
    "ON, OFF = 1.0, 0.0\n",
    "bias = 1.0\n",
    "\n",
    "training_inputs = [\n",
    "    [ON, ON, bias],\n",
    "    [ON, OFF, bias],\n",
    "    [OFF, ON, bias],\n",
    "    [OFF, OFF, bias],\n",
    "]\n",
    "\n",
    "training_outputs = [\n",
    "    [ON],\n",
    "    [ON],\n",
    "    [ON],\n",
    "    [OFF],\n",
    "]"
   ]
  },
  {
   "cell_type": "markdown",
   "metadata": {},
   "source": [
    "Next we are going to initialize the weights as random numbers."
   ]
  },
  {
   "cell_type": "code",
   "execution_count": 3,
   "metadata": {},
   "outputs": [],
   "source": [
    "w = tf.Variable(tf.random_normal([3,1]))"
   ]
  },
  {
   "cell_type": "markdown",
   "metadata": {},
   "source": [
    "We also need the activation function, which we will define by hand. Note that tensorflow actually contains heaps of activation functions, but we'll just keep it transparent."
   ]
  },
  {
   "cell_type": "code",
   "execution_count": 4,
   "metadata": {},
   "outputs": [],
   "source": [
    "def step(x):\n",
    "    if x >= 0.0:\n",
    "        return 1.0\n",
    "    else:\n",
    "        return 0.0"
   ]
  },
  {
   "cell_type": "markdown",
   "metadata": {},
   "source": [
    "The output of our model is just the step function of the sum and products of the weights, inputs, and biases.\n",
    "\n",
    "The error is then the difference between the actual outputs and the correct outputs."
   ]
  },
  {
   "cell_type": "code",
   "execution_count": 5,
   "metadata": {},
   "outputs": [],
   "source": [
    "output = tf.nn.sigmoid(tf.matmul(training_inputs, w))\n",
    "\n",
    "error = tf.subtract(training_outputs, output)\n",
    "mse = tf.reduce_mean(tf.square(error))"
   ]
  },
  {
   "cell_type": "markdown",
   "metadata": {},
   "source": [
    "From the gradient we compute the change in the weights that we want to perform in order to improve loss."
   ]
  },
  {
   "cell_type": "code",
   "execution_count": 6,
   "metadata": {},
   "outputs": [],
   "source": [
    "delta = tf.matmul(training_inputs, error, transpose_a=True)\n",
    "train = tf.assign(w, tf.add(w, delta))"
   ]
  },
  {
   "cell_type": "markdown",
   "metadata": {},
   "source": [
    "Now we start a tensorflow session and let the model train for 20 epochs. We're also going to log error and accuracy."
   ]
  },
  {
   "cell_type": "code",
   "execution_count": 7,
   "metadata": {},
   "outputs": [],
   "source": [
    "sess = tf.Session()\n",
    "sess.run(tf.global_variables_initializer())\n",
    "\n",
    "train_loss_results = []\n",
    "\n",
    "num_epochs = 51\n",
    "\n",
    "last_weights = []\n",
    "\n",
    "for epoch in range(0, num_epochs):\n",
    "    err, w_ = sess.run([mse, train])\n",
    "    last_weights = w_\n",
    "    train_loss_results.append(err)\n"
   ]
  },
  {
   "cell_type": "markdown",
   "metadata": {},
   "source": [
    "A quick look at the falling loss."
   ]
  },
  {
   "cell_type": "code",
   "execution_count": 8,
   "metadata": {},
   "outputs": [
    {
     "data": {
      "text/plain": [
       "[<matplotlib.lines.Line2D at 0x1131f7550>]"
      ]
     },
     "execution_count": 8,
     "metadata": {},
     "output_type": "execute_result"
    },
    {
     "data": {
      "image/png": "[encoded data removed]",
      "text/plain": [
       "<matplotlib.figure.Figure at 0x113161198>"
      ]
     },
     "metadata": {},
     "output_type": "display_data"
    }
   ],
   "source": [
    "plt.plot(train_loss_results)"
   ]
  },
  {
   "cell_type": "markdown",
   "metadata": {},
   "source": [
    "And to check we look at the predicted outcomes:"
   ]
  },
  {
   "cell_type": "code",
   "execution_count": 9,
   "metadata": {},
   "outputs": [
    {
     "data": {
      "text/plain": [
       "array([[0.99981425],\n",
       "       [0.96133263],\n",
       "       [0.95989344],\n",
       "       [0.09954287]])"
      ]
     },
     "execution_count": 9,
     "metadata": {},
     "output_type": "execute_result"
    }
   ],
   "source": [
    "scipy.special.expit(np.matmul(training_inputs, last_weights))"
   ]
  },
  {
   "cell_type": "markdown",
   "metadata": {},
   "source": [
    "And now you for the AND-gate!"
   ]
  },
  {
   "cell_type": "code",
   "execution_count": null,
   "metadata": {},
   "outputs": [],
   "source": []
  }
 ],
 "metadata": {
  "kernelspec": {
   "display_name": "Python 3",
   "language": "python",
   "name": "python3"
  },
  "language_info": {
   "codemirror_mode": {
    "name": "ipython",
    "version": 3
   },
   "file_extension": ".py",
   "mimetype": "text/x-python",
   "name": "python",
   "nbconvert_exporter": "python",
   "pygments_lexer": "ipython3",
   "version": "3.6.4"
  }
 },
 "nbformat": 4,
 "nbformat_minor": 2
}
